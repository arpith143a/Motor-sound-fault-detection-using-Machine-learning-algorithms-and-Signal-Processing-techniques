{
 "cells": [
  {
   "cell_type": "code",
   "execution_count": 1,
   "metadata": {},
   "outputs": [
    {
     "name": "stderr",
     "output_type": "stream",
     "text": [
      "/home/arpith/anaconda3/lib/python3.6/importlib/_bootstrap.py:219: RuntimeWarning: numpy.dtype size changed, may indicate binary incompatibility. Expected 96, got 88\n",
      "  return f(*args, **kwds)\n",
      "/home/arpith/anaconda3/lib/python3.6/importlib/_bootstrap.py:219: RuntimeWarning: numpy.dtype size changed, may indicate binary incompatibility. Expected 96, got 88\n",
      "  return f(*args, **kwds)\n",
      "/home/arpith/anaconda3/lib/python3.6/importlib/_bootstrap.py:219: RuntimeWarning: numpy.dtype size changed, may indicate binary incompatibility. Expected 96, got 88\n",
      "  return f(*args, **kwds)\n",
      "/home/arpith/anaconda3/lib/python3.6/importlib/_bootstrap.py:219: RuntimeWarning: numpy.dtype size changed, may indicate binary incompatibility. Expected 96, got 88\n",
      "  return f(*args, **kwds)\n",
      "Using TensorFlow backend.\n"
     ]
    }
   ],
   "source": [
    "import os\n",
    "import time\n",
    "import random\n",
    "import numpy as np\n",
    "import pandas as pd\n",
    "import librosa\n",
    "import scipy\n",
    "\n",
    "import tensorflow as tf\n",
    "from tensorflow.python.platform import gfile\n",
    "\n",
    "import random as rn\n",
    "np.random.seed(42)\n",
    "rn.seed(12345)\n",
    "\n",
    "session_conf = tf.ConfigProto(intra_op_parallelism_threads=1,\n",
    "                              inter_op_parallelism_threads=1)\n",
    "from keras import backend as K\n",
    "tf.set_random_seed(1234)\n"
   ]
  },
  {
   "cell_type": "code",
   "execution_count": null,
   "metadata": {},
   "outputs": [],
   "source": []
  },
  {
   "cell_type": "code",
   "execution_count": 3,
   "metadata": {},
   "outputs": [],
   "source": [
    "\n",
    "PATH_TRAIN='/home/arpith/Desktop/nectec/sounds/train'\n",
    "LABEL_TO_INDEX_MAP={}"
   ]
  },
  {
   "cell_type": "code",
   "execution_count": 4,
   "metadata": {},
   "outputs": [
    {
     "data": {
      "text/plain": [
       "{'bad': 1, 'good': 0}"
      ]
     },
     "execution_count": 4,
     "metadata": {},
     "output_type": "execute_result"
    }
   ],
   "source": [
    "###########return classes and assign number to it in training folder#############################\n",
    "def init(path):\n",
    "    labels=os.listdir(path) #######list of sub directories in the path\n",
    "    index=0\n",
    "    for label in labels:\n",
    "        LABEL_TO_INDEX_MAP[label]=index   #### initial sub directory name zeroo\n",
    "        index +=1                         #### increments and assigns next number for next sub directory\n",
    "    global NUM_LABELS\n",
    "    NUM_LABELS=len(LABEL_TO_INDEX_MAP)\n",
    "    return LABEL_TO_INDEX_MAP\n",
    "init(PATH_TRAIN)\n",
    "\n",
    "        "
   ]
  },
  {
   "cell_type": "code",
   "execution_count": 5,
   "metadata": {},
   "outputs": [
    {
     "name": "stdout",
     "output_type": "stream",
     "text": [
      "[0, 1]\n"
     ]
    }
   ],
   "source": [
    "######################encoding those labels #######################################3\n",
    "def one_hot_encoding(label):\n",
    "    encoding=[0]*len(LABEL_TO_INDEX_MAP) ############ assigns zeroes initially for length of LABEL_TO_INDEX_MAP (2 places)\n",
    "    encoding[LABEL_TO_INDEX_MAP[label]]=1  ########### assigns 1 for the presence of the label from LABEL_TO_INDEX_MAP list\n",
    "    return encoding\n",
    "print(one_hot_encoding('bad'))\n"
   ]
  },
  {
   "cell_type": "code",
   "execution_count": 6,
   "metadata": {},
   "outputs": [
    {
     "name": "stdout",
     "output_type": "stream",
     "text": [
      "98\n"
     ]
    },
    {
     "name": "stderr",
     "output_type": "stream",
     "text": [
      "/home/arpith/anaconda3/lib/python3.6/site-packages/librosa/util/utils.py:826: FutureWarning: Using a non-tuple sequence for multidimensional indexing is deprecated; use `arr[tuple(seq)]` instead of `arr[seq]`. In the future this will be interpreted as an array index, `arr[np.array(seq)]`, which will result either in an error or a different result.\n",
      "  return (x > x_pad[inds1]) & (x >= x_pad[inds2])\n",
      "/home/arpith/anaconda3/lib/python3.6/site-packages/librosa/core/audio.py:574: FutureWarning: Using a non-tuple sequence for multidimensional indexing is deprecated; use `arr[tuple(seq)]` instead of `arr[seq]`. In the future this will be interpreted as an array index, `arr[np.array(seq)]`, which will result either in an error or a different result.\n",
      "  return np.pad((y_sign[slice_post] != y_sign[slice_pre]),\n"
     ]
    },
    {
     "name": "stdout",
     "output_type": "stream",
     "text": [
      "[0, 0, 0, 0, 0, 0, 0, 0, 0, 0, 0, 0, 0, 0, 0, 0, 0, 0, 0, 0, 0, 0, 0, 0, 0, 0, 0, 0, 0, 0, 0, 0, 0, 0, 0, 0, 0, 0, 0, 0, 0, 0, 0, 0, 0, 0, 0, 0, 0, 0, 1, 1, 1, 1, 1, 1, 1, 1, 1, 1, 1, 1, 1, 1, 1, 1, 1, 1, 1, 1, 1, 1, 1, 1, 1, 1, 1, 1, 1, 1, 1, 1, 1, 1, 1, 1, 1, 1, 1, 1, 1, 1, 1, 1, 1, 1, 1, 1]\n"
     ]
    }
   ],
   "source": [
    "\n",
    "\n",
    "\n",
    "##################### variance and rms of amplitude(db)############################3\n",
    "def get_amp_var_rms(wave_path):\n",
    "    fs_rate, signal = scipy.io.wavfile.read(wave_path)\n",
    "    signal=librosa.amplitude_to_db(signal) ####### changing freq to amplitude in decibels#####\n",
    "    variance=np.var(signal) ######## get variance value of the amplitude values\n",
    "    rms = np.sqrt(np.mean(signal**2))  ########## get rms value of amplitude values\n",
    "    return variance,rms\n",
    "\n",
    "#################### centroid of spectrum formed by stft####################3\n",
    "def get_cent(wave_path):\n",
    "    y, sr = librosa.load(wave_path)\n",
    "    S, phase = librosa.magphase(librosa.stft(y))## ############# librosa.stft performs fourier transform on signals\n",
    "    #### librosa.magphase returns magnitude and phase of complex values extracted from librosa.stft\n",
    "    cent=np.mean(librosa.feature.spectral_centroid(y=y, sr=sr, S=None, n_fft=4410, hop_length=2205,\n",
    "                      freq=None).T,axis=0) ### compute spectral centroid of those magnitude values\n",
    "    \n",
    "\n",
    "    rolloff=np.mean(librosa.feature.spectral_rolloff(y=y, sr=sr, S=None, n_fft=4410, hop_length=2205, freq=None, roll_percent=0.85).T)\n",
    "    contrast = np.mean(librosa.feature.spectral_contrast(y=y,n_fft=4410,S=None,hop_length=2205).T,axis=0)#3\n",
    "    mfccs=np.mean(librosa.feature.mfcc(y=y, sr=sr, n_mfcc=20,n_fft=4410,hop_length=2205,fmin= 50,n_mels=256).T,axis=0) #1\n",
    "\n",
    "    return mfccs,cent,contrast,rolloff\n",
    "#    \n",
    "\n",
    "\n",
    "def get_others(wave_path):\n",
    "    y, sr = librosa.load(wave_path)   \n",
    "    stft = np.abs(librosa.stft(y))\n",
    "    chroma = np.mean(librosa.feature.chroma_stft(y=y, sr=sr, S=None, norm=np.inf, n_fft=4410,\n",
    "                hop_length=2205, tuning=None).T,axis=0)#\n",
    "    zero_crossing_rate=np.mean(librosa.feature.zero_crossing_rate(y,frame_length=4410,hop_length=2205).T,axis=0)#5\n",
    "    spectral_flatness=np.mean(librosa.feature.spectral_flatness(y=y,n_fft=4410,S=None,hop_length=2205).T,axis=0)#6\n",
    "\n",
    "#     others=np.vstack([chroma,zero_crossing_rate,spectral_flatness])\n",
    "#     roll_off=np.mean(librosa.feature.spectral_rolloff(y=y,n_fft=4410,S=None,hop_length=2205).T,axis=0)\n",
    "    rmse=np.mean(librosa.feature.rmse(y=y,frame_length=4410,S=None,hop_length=2205).T,axis=0)\n",
    "    return chroma,zero_crossing_rate,spectral_flatness,rmse\n",
    "\n",
    "\n",
    "\n",
    "################### extracting mfcc and encode the label #########################\n",
    "# def get_batch(batch_size,path):    \n",
    "path=os.path.join(PATH_TEST,\"*\",'*.wav')  ######## files having path ending with wav\n",
    "waves=gfile.Glob(path) ### collects all the files existing in the folder(including subdirectories having file ended with .wav)\n",
    "print(len(waves)) #######length of files#######\n",
    "\n",
    "#########initialze arrays for each feature###############################\n",
    "X1=[]\n",
    "Y=[]\n",
    "X2=[]\n",
    "X3=[]\n",
    "X4=[]\n",
    "X5=[]\n",
    "X6=[]\n",
    "X7=[]\n",
    "X8=[]\n",
    "X9=[]\n",
    "X10=[]\n",
    "X11=[]\n",
    "Z=[]\n",
    "# mfcc,chroma,melspectrogram and spectral contrast\n",
    "# random.shuffle(waves) #### shuffle the  files( mix of both good and bad files)################\n",
    "\n",
    "##########get features from each wav file##################################\n",
    "for wave_path in waves:\n",
    "    _,label=os.path.split(os.path.dirname(wave_path)) ######splits the subdirectory name from path ##########\n",
    "    #### _= left out path, label=name of sub directory cutted of from path\n",
    "    first,second,third,tenth=(get_others(wave_path))  \n",
    "    fourth,fifth=get_amp_var_rms(wave_path)\n",
    "    sixth,seventh,eight,nineth=get_cent(wave_path)\n",
    "#     sixth=get_cent(wave_path)\n",
    "    X1.append(first)  ### chroma\n",
    "    X2.append(second) ###  zero\n",
    "    X3.append(third)  ### spec flatness\n",
    "    X4.append(fourth) ### amp vars\n",
    "    X5.append(fifth)  ### amp rms\n",
    "    X6.append(sixth)  ### MFCC\n",
    "    X7.append(seventh) ### centroid\n",
    "    X8.append(eight)    ### contrast  \n",
    "    X9.append(nineth)  ### rolloff\n",
    "    X10.append(tenth)  ## rmse\n",
    "   \n",
    "    Y.append(label)\n",
    "\n",
    "########### encode the target values of each wav file##################################\n",
    "def target(arr):\n",
    "    yev=[]\n",
    "    for x in arr:\n",
    "        if x=='good':\n",
    "#             print(x)\n",
    "            yev.append(0)\n",
    "        else:\n",
    "#             print(x)\n",
    "            yev.append(1)\n",
    "    return yev\n",
    "#     Z.append(b)\n",
    "\n",
    "print(target(Y))\n",
    "Z=target(Y)\n"
   ]
  },
  {
   "cell_type": "code",
   "execution_count": 7,
   "metadata": {},
   "outputs": [],
   "source": [
    "from sklearn.preprocessing import MinMaxScaler\n",
    "from sklearn.preprocessing import StandardScaler\n",
    "scaler = MinMaxScaler()\n",
    "scale=StandardScaler()\n",
    "\n",
    "x1=np.array(X1)\n",
    "x2=np.array(X2)\n",
    "x3=np.array(X3)\n",
    "four=np.array(X4)\n",
    "x4=np.reshape(four, (-1, 1))\n",
    "five=np.array(X5)\n",
    "x5=np.reshape(five, (-1, 1))\n",
    "x6=np.array(X6)\n",
    "\n",
    "x7=np.array(X7)\n",
    "x8=np.array(X8)\n",
    "\n",
    "nine=np.array(X9)\n",
    "x9=np.reshape(nine, (-1, 1))\n",
    "x10=np.array(X10)\n",
    "# x11=np.array(X11)\n",
    "\n",
    "\n",
    "prenormfeat1=np.hstack([x1,x2,x3,x4,x5,x6,x7,x8,x9,x10])\n",
    "\n",
    "\n",
    "prenormfeat=np.hstack([x1,x2,x3,x4,x5,x6])\n",
    "\n",
    "# prenormfeat=None\n",
    "X=None\n",
    "# X=scaler.fit_transform(prenormfeat)\n",
    "\n",
    "normfeat=scale.fit_transform(prenormfeat1)\n",
    "\n",
    "minmaxfeat=scaler.fit_transform(prenormfeat1)\n",
    "\n",
    "\n",
    "Z=np.array(Z)\n",
    "# print(X[0])\n",
    "# print(X.shape)"
   ]
  },
  {
   "cell_type": "code",
   "execution_count": 8,
   "metadata": {},
   "outputs": [
    {
     "name": "stdout",
     "output_type": "stream",
     "text": [
      "(98, 46)\n",
      "(98, 46)\n"
     ]
    }
   ],
   "source": [
    "# print(X[0])\n",
    "print(normfeat.shape)\n",
    "print(minmaxfeat.shape)\n"
   ]
  },
  {
   "cell_type": "code",
   "execution_count": 9,
   "metadata": {},
   "outputs": [
    {
     "name": "stdout",
     "output_type": "stream",
     "text": [
      "histogram data by min-max\n"
     ]
    },
    {
     "data": {
      "text/plain": [
       "<Figure size 640x480 with 1 Axes>"
      ]
     },
     "metadata": {},
     "output_type": "display_data"
    },
    {
     "name": "stdout",
     "output_type": "stream",
     "text": [
      "histogram data by standard scaler\n"
     ]
    },
    {
     "data": {
      "text/plain": [
       "<Figure size 640x480 with 1 Axes>"
      ]
     },
     "metadata": {},
     "output_type": "display_data"
    },
    {
     "name": "stdout",
     "output_type": "stream",
     "text": [
      "qqplot data by min-max\n"
     ]
    },
    {
     "data": {
      "text/plain": [
       "<Figure size 640x480 with 1 Axes>"
      ]
     },
     "metadata": {},
     "output_type": "display_data"
    },
    {
     "name": "stdout",
     "output_type": "stream",
     "text": [
      "qqplot data by standard scaler\n"
     ]
    },
    {
     "data": {
      "text/plain": [
       "<Figure size 640x480 with 1 Axes>"
      ]
     },
     "metadata": {},
     "output_type": "display_data"
    },
    {
     "name": "stdout",
     "output_type": "stream",
     "text": [
      "shapiro data by min-max\n",
      "Statistics=0.972, p=0.000\n",
      "Sample does not look Gaussian (reject H0)\n",
      "shapiro data by standard scaler\n",
      "Statistics=0.989, p=0.000\n",
      "Sample does not look Gaussian (reject H0)\n"
     ]
    }
   ],
   "source": [
    "### normality tests for both min-max and normalizied features#######################\n",
    "from matplotlib import pyplot\n",
    "\n",
    "print(\"histogram data by min-max\")\n",
    "pyplot.hist(minmaxfeat)\n",
    "pyplot.show()\n",
    "print(\"histogram data by standard scaler\")\n",
    "pyplot.hist(normfeat)\n",
    "pyplot.show()\n",
    "\n",
    "from statsmodels.graphics.gofplots import qqplot\n",
    "print(\"qqplot data by min-max\")\n",
    "qqplot(minmaxfeat, line='s')\n",
    "pyplot.show()\n",
    "\n",
    "print(\"qqplot data by standard scaler\")\n",
    "qqplot(normfeat, line='s')\n",
    "pyplot.show()\n",
    "\n",
    "\n",
    "from scipy.stats import shapiro\n",
    "print(\"shapiro data by min-max\")\n",
    "stat, p = shapiro(minmaxfeat)\n",
    "print('Statistics=%.3f, p=%.3f' % (stat, p))\n",
    "# interpret\n",
    "alpha = 0.05\n",
    "if p > alpha:\n",
    "\tprint('Sample looks Gaussian (fail to reject H0)')\n",
    "else:\n",
    "\tprint('Sample does not look Gaussian (reject H0)')\n",
    "\n",
    "print(\"shapiro data by standard scaler\")   \n",
    "stat, p = shapiro(normfeat)\n",
    "print('Statistics=%.3f, p=%.3f' % (stat, p))\n",
    "# interpret\n",
    "alpha = 0.05\n",
    "if p > alpha:\n",
    "\tprint('Sample looks Gaussian (fail to reject H0)')\n",
    "else:\n",
    "\tprint('Sample does not look Gaussian (reject H0)')\n",
    "\n"
   ]
  },
  {
   "cell_type": "code",
   "execution_count": 10,
   "metadata": {},
   "outputs": [
    {
     "name": "stdout",
     "output_type": "stream",
     "text": [
      "[[-0.70860769 -0.43362453  0.21489303 ... -1.63905287  0.51772821\n",
      "  -1.49149591]\n",
      " [ 0.65859855 -0.19580776 -0.12547845 ...  0.67993015 -0.22997247\n",
      "   0.62679982]\n",
      " [-0.55937836 -0.5137225   1.53450016 ... -0.04603967  0.90183379\n",
      "  -1.09211244]\n",
      " ...\n",
      " [ 0.8356812   1.5772828  -0.67795767 ...  0.20637647  0.35644116\n",
      "  -0.0298028 ]\n",
      " [-0.16812311  0.4394091   1.51741437 ...  0.64472671  1.95066579\n",
      "   0.62389789]\n",
      " [-0.32013037  1.61685072 -0.32642358 ...  0.33177374 -0.1965963\n",
      "   0.19161896]]\n",
      "<bound method SelectorMixin.get_support of SelectKBest(k=46, score_func=<function mutual_info_classif at 0x7f451c7bcbf8>)>\n"
     ]
    }
   ],
   "source": [
    "##################### trying to select best features using information gain ################\n",
    "from sklearn.feature_selection import SelectKBest\n",
    "from sklearn.feature_selection import f_classif\n",
    "from sklearn.model_selection import train_test_split\n",
    "from sklearn.feature_selection import mutual_info_classif\n",
    "# X_train, X_test, y_train, y_test = train_test_split(minmaxfeat, Z, test_size=0.20)    \n",
    "selector = SelectKBest(mutual_info_classif, k=46)\n",
    "X_train_clean = selector.fit_transform(normfeat,Z)\n",
    "print(X_train_clean)\n",
    "# X_test_clean = selector.transform(X_test)\n",
    "# print(X_test_clean.shape)\n",
    "print(selector.get_support)"
   ]
  },
  {
   "cell_type": "code",
   "execution_count": 11,
   "metadata": {},
   "outputs": [],
   "source": [
    "mask = selector.get_support() #list of booleans\n",
    "new_features = [] # The list of your K best features\n",
    "names=['chroma1','chroma2','chroma3','chroma4','chroma5','chroma6','chroma7','chroma8','chroma9','chroma10','chroma11','chroma12',\n",
    "      'zero-cross','spectral-flatness','ampvar','amprms',\n",
    "       'mfcc1','mfcc2','mfcc3','mfcc4','mfcc5','mfcc6','mfcc7','mfcc8','mfcc9','mfcc10','mfcc11','mfcc12','mfcc13','mfcc14','mfcc15',\n",
    "       'mfcc16','mfcc17','mfcc18','mfcc19','mfcc20',\n",
    "      'cent','contrast1','contrast2','contrast3','contrast4','contrast5','contrast6','contrast7','rolloff','rmse']\n",
    "for bool, feature in zip(mask, names):\n",
    "    if bool:\n",
    "        new_features.append(feature)"
   ]
  },
  {
   "cell_type": "code",
   "execution_count": 12,
   "metadata": {},
   "outputs": [
    {
     "name": "stdout",
     "output_type": "stream",
     "text": [
      "['chroma1', 'chroma2', 'chroma3', 'chroma4', 'chroma5', 'chroma6', 'chroma7', 'chroma8', 'chroma9', 'chroma10', 'chroma11', 'chroma12', 'zero-cross', 'spectral-flatness', 'ampvar', 'amprms', 'mfcc1', 'mfcc2', 'mfcc3', 'mfcc4', 'mfcc5', 'mfcc6', 'mfcc7', 'mfcc8', 'mfcc9', 'mfcc10', 'mfcc11', 'mfcc12', 'mfcc13', 'mfcc14', 'mfcc15', 'mfcc16', 'mfcc17', 'mfcc18', 'mfcc19', 'mfcc20', 'cent', 'contrast1', 'contrast2', 'contrast3', 'contrast4', 'contrast5', 'contrast6', 'contrast7', 'rolloff', 'rmse']\n"
     ]
    }
   ],
   "source": [
    "print(new_features)"
   ]
  },
  {
   "cell_type": "code",
   "execution_count": 13,
   "metadata": {},
   "outputs": [
    {
     "name": "stdout",
     "output_type": "stream",
     "text": [
      "(98, 46)\n"
     ]
    }
   ],
   "source": [
    "print(X_train_clean.shape)\n",
    "# print(X_test_clean[0])"
   ]
  },
  {
   "cell_type": "code",
   "execution_count": 14,
   "metadata": {},
   "outputs": [],
   "source": [
    "\n"
   ]
  },
  {
   "cell_type": "code",
   "execution_count": 15,
   "metadata": {},
   "outputs": [],
   "source": [
    "# note: this for finding kbest features using information gain\n",
    "\n",
    "# from sklearn.feature_selection import SelectKBest\n",
    "\n",
    "# selector = SelectKBest(mutual_info_classif, k=10)\n",
    "# X_train_clean = selector.fit(prenormfeat1, Z)\n",
    "# # print(X_train_clean.shape)\n",
    "# # X_test_clean = selector.transform(X_test)\n",
    "# print(X_train_clean.get_support)"
   ]
  },
  {
   "cell_type": "code",
   "execution_count": 16,
   "metadata": {},
   "outputs": [
    {
     "data": {
      "image/png": "[encoded data removed]",
      "text/plain": [
       "<Figure size 432x288 with 1 Axes>"
      ]
     },
     "metadata": {},
     "output_type": "display_data"
    }
   ],
   "source": [
    "## applying principal component anaysis\n",
    "\n",
    "from sklearn.decomposition import PCA\n",
    "import matplotlib.pyplot as plt\n",
    "pca = PCA().fit(X_train_clean)\n",
    "plt.plot(np.cumsum(pca.explained_variance_ratio_))\n",
    "plt.xlabel('number of components')\n",
    "plt.ylabel('cumulative explained variance');"
   ]
  },
  {
   "cell_type": "code",
   "execution_count": 17,
   "metadata": {},
   "outputs": [],
   "source": [
    "## finally selected 30 features using principal component analysise, because PCA is also good for selecting features #############\n",
    "from sklearn import decomposition\n",
    "pca = decomposition.PCA(n_components=30)\n",
    "PCAfeatures=pca.fit_transform(X_train_clean)"
   ]
  },
  {
   "cell_type": "code",
   "execution_count": 18,
   "metadata": {},
   "outputs": [
    {
     "name": "stdout",
     "output_type": "stream",
     "text": [
      "(98, 30)\n"
     ]
    }
   ],
   "source": [
    "print(PCAfeatures.shape)"
   ]
  },
  {
   "cell_type": "code",
   "execution_count": 19,
   "metadata": {},
   "outputs": [],
   "source": [
    "import numpy as np\n",
    "from keras.models import Sequential\n",
    "from keras.layers import Dense, Dropout\n",
    "from keras.optimizers import SGD\n",
    "from keras.wrappers.scikit_learn import KerasClassifier\n",
    "from sklearn.model_selection import train_test_split\n",
    "from sklearn.model_selection import cross_val_score\n",
    "from sklearn.model_selection import cross_validate\n",
    "from sklearn.model_selection import StratifiedKFold\n",
    "from sklearn.model_selection import GridSearchCV\n",
    "from sklearn.model_selection import ShuffleSplit\n",
    "from keras.models import Sequential\n",
    "from keras.layers import Dense\n",
    "from sklearn.model_selection import StratifiedKFold\n",
    "import numpy\n",
    "import matplotlib.pyplot as plt\n",
    "from keras.callbacks import EarlyStopping\n",
    "from keras import callbacks\n",
    "kfold = StratifiedKFold(n_splits=10, shuffle=True, random_state=7)\n",
    "cvscores = []\n",
    "early_stop = EarlyStopping(monitor='val_loss', min_delta=0, patience=5, verbose=1, mode='auto')\n",
    "callbacks_list1 = [early_stop]\n",
    "\n",
    "\n",
    "############# split into training and testing ##########################\n",
    "x_train, x_test, y_train, y_test=None,None,None,None\n",
    "\n",
    "# x_train, x_test, y_train, y_test = train_test_split(fs, Z, test_size=0.18)\n",
    "# from keras.optimizers import Adam\n",
    "def create_model():\n",
    "    mod=None\n",
    "    mod = Sequential()\n",
    "    mod.add(Dense(8, activation='relu'))\n",
    "    mod.add(Dropout(0.3))\n",
    "    mod.add(Dense(4, activation='relu'))\n",
    "    mod.add(Dropout(0.2))\n",
    "    mod.add(Dense(1, activation='sigmoid'))\n",
    "#     adam = Adam(lr=0.001, beta_1=0.9, beta_2=0.09, epsilon=1e-09, decay=0.0)\n",
    "    mod.compile(optimizer='adam',\n",
    "                  loss='binary_crossentropy',\n",
    "                  metrics=['accuracy'])\n",
    "    return mod\n",
    "\n",
    "######################Grid search cv###########################\n",
    "\n",
    "## this code is for finding good params for neural networks\n",
    "\n",
    "# create model\n",
    "# model = KerasClassifier(build_fn=create_model, verbose=0)\n",
    "# # define the grid search parameters\n",
    "# batch_size = [5,10,15,20]\n",
    "# epochs = [50, 100,150]\n",
    "# model = KerasClassifier(build_fn=create_model, epochs=150, batch_size=5, verbose=0)\n",
    "# # define the grid search parameters\n",
    "# optimizer = ['SGD', 'RMSprop', 'Adagrad', 'Adadelta', 'Adam', 'Adamax', 'Nadam']\n",
    "# param_grid = dict(optimizer=optimizer)\n",
    "# grid = GridSearchCV(estimator=model, param_grid=param_grid, n_jobs=-1)\n",
    "# grid_result = grid.fit(X, Z)\n",
    "# # summarize results\n",
    "# print(\"Best: %f using %s\" % (grid_result.best_score_, grid_result.best_params_))\n",
    "# means = grid_result.cv_results_['mean_test_score']\n",
    "# stds = grid_result.cv_results_['std_test_score']\n",
    "# params = grid_result.cv_results_['params']\n",
    "# for mean, stdev, param in zip(means, stds, params):\n",
    "#     print(\"%f (%f) with: %r\" % (mean, stdev, param))\n",
    "\n",
    "\n",
    "\n"
   ]
  },
  {
   "cell_type": "code",
   "execution_count": 23,
   "metadata": {},
   "outputs": [],
   "source": [
    "\n",
    "### LSTM ####\n",
    "\n",
    "#note: one way to perform LSTM, not yet optimized ####################\n",
    "\n",
    "# from keras.optimizers import SGD\n",
    "\n",
    "# from keras.utils import np_utils\n",
    "# from keras.models import Sequential\n",
    "# from keras.layers.core import Dense, Activation\n",
    "# from keras.layers import  Dropout\n",
    "# from keras.layers.recurrent import LSTM\n",
    "# from keras.layers import Flatten\n",
    "# from sklearn.model_selection import train_test_split\n",
    "\n",
    "# import numpy\n",
    "# batch_size = 5\n",
    "# # hidden_units =12 \n",
    "\n",
    "# def create_dataset(dataset, look_back=1):\n",
    "# \tdataX= []\n",
    "# \tfor i in range(len(dataset)):\n",
    "# \t\ta = dataset[i:(i+look_back), 0]\n",
    "# \t\tdataX.append(a)\n",
    "# # \t\tdataY.append(dataset[i + look_back, 0])\n",
    "# \treturn numpy.array(dataX)\n",
    "# x_train, x_test, y_train, y_test = train_test_split(X, Z, test_size=0.18)\n",
    "# look_back = 1\n",
    "# trainX = create_dataset(x_train, look_back)\n",
    "# testX = create_dataset(x_test, look_back)\n",
    "# # trainX=x_train\n",
    "# # testX=x_test\n",
    "# trainX = numpy.reshape(trainX, (trainX.shape[0], 1, trainX.shape[1]))\n",
    "# testX = numpy.reshape(testX, (testX.shape[0], 1, testX.shape[1]))\n",
    "# print(trainX.shape)\n",
    "\n",
    "# model = Sequential()\n",
    "# model.add(LSTM(output_dim=40, \n",
    "#               input_shape=(1,1),return_sequences=True ))\n",
    "# model.add(Dropout(0.3))\n",
    "# model.add(LSTM(output_dim=30, \n",
    "#               input_shape=(1,1),return_sequences=True ))\n",
    "# model.add(Dropout(0.5))\n",
    "# # model.add(LSTM(output_dim=2, \n",
    "# #               input_shape=(1,1),return_sequences=True ))\n",
    "# # model.add(Dropout(0.5))\n",
    "# model.add(Flatten())\n",
    "\n",
    "# model.add(Dense(1))\n",
    "# # model.add(Activation('sigmoid'))\n",
    "\n",
    "# # sgd = SGD(lr=0.1, decay=1e-6, momentum=0.9, nesterov=True)\n",
    "# model.compile(loss='binary_crossentropy', optimizer='adam',metrics=['accuracy'])\n",
    "\n",
    "# print(\"Train...\")\n",
    "# model.fit(trainX, y_train, batch_size=batch_size, epochs=1, validation_data=(testX, y_test))\n",
    "# score, acc = model.evaluate(testX, y_test,\n",
    "#                             batch_size=batch_size,\n",
    "#                             )\n",
    "# print('Test score:', score)\n",
    "# print('Test accuracy:', acc)"
   ]
  },
  {
   "cell_type": "code",
   "execution_count": 25,
   "metadata": {},
   "outputs": [
    {
     "name": "stdout",
     "output_type": "stream",
     "text": [
      "acc: 100.00%\n",
      "acc: 90.00%\n",
      "acc: 100.00%\n",
      "Epoch 00199: early stopping\n",
      "acc: 100.00%\n",
      "Epoch 00111: early stopping\n",
      "acc: 80.00%\n",
      "Epoch 00018: early stopping\n",
      "acc: 50.00%\n",
      "Epoch 00102: early stopping\n",
      "acc: 90.00%\n",
      "Epoch 00091: early stopping\n",
      "acc: 90.00%\n",
      "Epoch 00022: early stopping\n",
      "acc: 44.44%\n",
      "Epoch 00014: early stopping\n",
      "acc: 88.89%\n",
      "83.33% (+/- 19.06%)\n"
     ]
    }
   ],
   "source": [
    "#### kfold cross validaton using neural networks######\n",
    "\n",
    "X=PCAfeatures\n",
    "\n",
    "for train, test in kfold.split(X, Z):\n",
    "  # create model\n",
    "    model = Sequential()\n",
    "    model.add(Dense(8,activation='relu'))\n",
    "    model.add(Dense(4, activation='relu'))\n",
    "    model.add(Dense(1, activation='sigmoid'))\n",
    "    # Compile model\n",
    "    model.compile(loss='binary_crossentropy', optimizer='adam', metrics=['accuracy'])\n",
    "    # Fit the model\n",
    "    history=model.fit(X[train], Z[train],validation_data=(X[test], Z[test]), epochs=200, batch_size=15, verbose=0,callbacks=callbacks_list1)\n",
    "    # evaluate the model\n",
    "    scores = model.evaluate(X[test], Z[test], verbose=0)\n",
    "#     val_acc = history.history['val_acc']\n",
    "    print(\"%s: %.2f%%\" % (model.metrics_names[1], scores[1]*100))\n",
    "    cvscores.append(scores[1] * 100)\n",
    "\n",
    "    # history=estimator\n",
    "print(\"%.2f%% (+/- %.2f%%)\" % (numpy.mean(cvscores), numpy.std(cvscores)))\n",
    "X=None"
   ]
  },
  {
   "cell_type": "code",
   "execution_count": 26,
   "metadata": {},
   "outputs": [],
   "source": [
    "### the below code is for finding performance metrics, which can be applied to the final selected model afeter model comparisons\n",
    "\n",
    "\n",
    "# from sklearn import metrics\n",
    "# T1=metrics.f1_score(y_train, predtrain.round(),  labels=np.unique(predtrain.round()))\n",
    "# T2=metrics.precision_score(y_train, predtrain.round(),  labels=np.unique(predtrain.round()))\n",
    "# T3=metrics.recall_score(y_train, predtrain.round(),  labels=np.unique(predtrain.round()))\n",
    "# T4=metrics.accuracy_score(y_train, predtrain.round())\n",
    "# print(\"f1score:\",T1)\n",
    "# print(\"precision score:\",T2)\n",
    "# print(\"recall score:\",T3)\n",
    "# print(\"accuracy score:\",T4)\n",
    "\n",
    "# from sklearn import metrics\n",
    "# t1=metrics.f1_score(y_test, predtest.round(),  labels=np.unique(predtest))\n",
    "# t2=metrics.precision_score(y_test, predtest.round(),  labels=np.unique(predtest))\n",
    "# t3=metrics.recall_score(y_test, predtest.round(),  labels=np.unique(predtest))\n",
    "# t4=metrics.accuracy_score(y_test, predtest.round())\n",
    "# print(\"f1score:\",t1)\n",
    "# print(\"precision score:\",t2)\n",
    "# print(\"recall score:\",t3)\n",
    "# print(\"accuracy score:\",t4)\n",
    "\n",
    "\n",
    "# from sklearn.metrics import confusion_matrix\n",
    "\n",
    "# from sklearn.metrics import classification_report\n",
    "\n",
    "\n",
    "# # print(classification_report(y_train, predtrain.round()))\n",
    "# #              precision    recall  f1-score   support\n",
    "\n",
    "# cm1 = confusion_matrix(y_train,predtrain.round())\n",
    "# sensitivity1 = cm1[0,0]/(cm1[0,0]+cm1[0,1])\n",
    "# print('Sensitivity : ', sensitivity1 )\n",
    "\n",
    "# specificity1 = cm1[1,1]/(cm1[1,0]+cm1[1,1])\n",
    "# print('Specificity : ', specificity1)\n",
    "\n",
    "# print(cm1)\n",
    "\n",
    "# 0.91076923076923078\n",
    "\n",
    "# from sklearn.metrics import confusion_matrix\n",
    "# ptest=predtest.ravel()\n",
    "\n",
    "# cm2 = confusion_matrix(y_test,ptest.round())\n",
    "# print(cm2)\n",
    "\n",
    "\n",
    "# sensitivity2 = cm2[0,0]/(cm2[0,0]+cm2[0,1])\n",
    "# print('Sensitivity : ', sensitivity2 )\n",
    "\n",
    "# specificity2 = cm2[1,1]/(cm2[1,0]+cm2[1,1])\n",
    "# print('Specificity : ', specificity2)"
   ]
  },
  {
   "cell_type": "code",
   "execution_count": 31,
   "metadata": {},
   "outputs": [
    {
     "name": "stdout",
     "output_type": "stream",
     "text": [
      "Best Hyper Parameters:\n",
      " {'algorithm': 'auto', 'n_neighbors': 3, 'weights': 'uniform'}\n",
      "0.8979591836734694\n"
     ]
    }
   ],
   "source": [
    "# grid search cv for Knearest neigbours #############\n",
    "\n",
    "from sklearn.model_selection import GridSearchCV\n",
    "from sklearn.neighbors import KNeighborsClassifier\n",
    "#making the instance\n",
    "model = KNeighborsClassifier(n_jobs=1)\n",
    "#Hyper Parameters Set\n",
    "params = {'n_neighbors':[1,2,3,4,5,6,7,8,9,10,11,12,13,14,15],\n",
    "#           'leaf_size':[1,2,3,5],\n",
    "          'weights':['uniform', 'distance'],\n",
    "          'algorithm':['auto', 'ball_tree','kd_tree','brute']\n",
    "#           'n_jobs':[-1]\n",
    "         }\n",
    "#Making models with hyper parameters sets\n",
    "model1 = GridSearchCV(model,cv=5, param_grid=params, n_jobs=1)\n",
    "#Learning\n",
    "X=PCAfeatures\n",
    "# X_train_clean\n",
    "model1.fit(X,Z)\n",
    "#The best hyper parameters set\n",
    "print(\"Best Hyper Parameters:\\n\",model1.best_params_)\n",
    "print(model1.best_score_)\n"
   ]
  },
  {
   "cell_type": "code",
   "execution_count": 33,
   "metadata": {},
   "outputs": [
    {
     "name": "stdout",
     "output_type": "stream",
     "text": [
      "0.10111111111111112\n",
      "89.89% (+/- 8.95%)\n",
      "0.13111111111111112\n",
      "86.89% (+/- 10.02%)\n",
      "0.10111111111111111\n",
      "89.89% (+/- 6.33%)\n",
      "0.10111111111111111\n",
      "89.89% (+/- 6.33%)\n",
      "0.09222222222222223\n",
      "90.78% (+/- 8.62%)\n",
      "0.12111111111111113\n",
      "87.89% (+/- 7.46%)\n",
      "0.10111111111111112\n",
      "89.89% (+/- 6.33%)\n",
      "0.11222222222222222\n",
      "88.78% (+/- 12.39%)\n",
      "0.0811111111111111\n",
      "91.89% (+/- 6.05%)\n",
      "0.09222222222222223\n",
      "90.78% (+/- 9.71%)\n",
      "0.10222222222222224\n",
      "89.78% (+/- 4.49%)\n",
      "0.12222222222222223\n",
      "87.78% (+/- 7.44%)\n",
      "0.13222222222222224\n",
      "86.78% (+/- 7.74%)\n",
      "0.14111111111111113\n",
      "85.89% (+/- 12.78%)\n",
      "0.11333333333333333\n",
      "88.67% (+/- 5.77%)\n",
      "0.13222222222222224\n",
      "86.78% (+/- 9.20%)\n",
      "0.09000000000000001\n",
      "91.00% (+/- 8.31%)\n",
      "0.10222222222222221\n",
      "89.78% (+/- 11.18%)\n",
      "0.09222222222222222\n",
      "90.78% (+/- 7.37%)\n"
     ]
    },
    {
     "data": {
      "text/plain": [
       "Text(0,0.5,'Mean Error')"
      ]
     },
     "execution_count": 33,
     "metadata": {},
     "output_type": "execute_result"
    },
    {
     "data": {
      "image/png": "[encoded data removed]",
      "text/plain": [
       "<Figure size 864x432 with 1 Axes>"
      ]
     },
     "metadata": {},
     "output_type": "display_data"
    }
   ],
   "source": [
    "#### #### KNN stratified k-fold cross validation with grid search parameters###########\n",
    "from sklearn.model_selection import StratifiedKFold\n",
    "from sklearn.neighbors import KNeighborsClassifier\n",
    "from sklearn import metrics\n",
    "import matplotlib.pyplot as plt\n",
    "import numpy\n",
    "kfold = StratifiedKFold(n_splits=10, shuffle=True)\n",
    "cvscores = []\n",
    "yo='Accuracy'\n",
    "error=[]\n",
    "sets=[]\n",
    "acc=[]\n",
    "X=PCAfeatures\n",
    "# X_train_clean\n",
    "\n",
    "\n",
    "for i in range(1, 20):\n",
    "    \n",
    "    error=[]\n",
    "    #     sets=[]\n",
    "    cvscores=[]\n",
    "    for train, test in kfold.split(X, Z):\n",
    "\n",
    "        classifier = KNeighborsClassifier(n_neighbors=i,weights='uniform',algorithm='auto')  \n",
    "        classifier.fit(X[train], Z[train])  \n",
    "\n",
    "        # evaluate the model\n",
    "        pred_i = classifier.predict(X[test])\n",
    "\n",
    "        scores=metrics.accuracy_score(Z[test], pred_i.round())\n",
    "  \n",
    "\n",
    "        error.append(np.mean(pred_i != Z[test]))\n",
    "\n",
    "        cvscores.append(scores * 100)\n",
    "    \n",
    "    error1=np.array(error)\n",
    "    error2=np.mean(error1)\n",
    "    print(error2)\n",
    "    print(\"%.2f%% (+/- %.2f%%)\" % (numpy.mean(cvscores), numpy.std(cvscores)))\n",
    "    cv=np.mean(cvscores)\n",
    "    acc.append(cv)\n",
    "    sets.append(error2)\n",
    "plt.figure(figsize=(12, 6))  \n",
    "plt.plot(range(1, 20),sets, color='red', linestyle='dashed', marker='o',  \n",
    "         markerfacecolor='blue', markersize=10)\n",
    "plt.title('Error Rate K Value')  \n",
    "plt.xlabel('K Value')  \n",
    "plt.ylabel('Mean Error') \n"
   ]
  },
  {
   "cell_type": "code",
   "execution_count": 34,
   "metadata": {},
   "outputs": [],
   "source": [
    "# ### KNN find optimal k's  when data is split into 80:20#######\n",
    "\n",
    "# from sklearn.neighbors import KNeighborsClassifier \n",
    "# import matplotlib.pyplot as plt\n",
    "# from sklearn.model_selection import train_test_split  \n",
    "# knnx_train, knnx_test, knnz_train, knnz_test = train_test_split(X_train_clean, Z, test_size=0.18)  \n",
    "# # error=[] \n",
    "# knn=None \n",
    "\n",
    "# knn = KNeighborsClassifier(n_neighbors=8,weights='uniform')\n",
    "\n",
    "# knn.fit(knnx_train, knnz_train)\n",
    "# pred_i=None\n",
    "# pred_i = knn.predict(knnx_test)\n",
    "# scores=None\n",
    "# scores=metrics.accuracy_score(knnz_test, pred_i.round())\n",
    "# print(scores)\n",
    "\n",
    "# plt.figure(figsize=(12, 6))  \n",
    "# plt.plot(range(1, 40), error, color='red', linestyle='dashed', marker='o',  \n",
    "#          markerfacecolor='blue', markersize=10)\n",
    "# plt.title('Error Rate K Value')  \n",
    "# plt.xlabel('K Value')  \n",
    "# plt.ylabel('Mean Error') \n",
    "\n",
    "\n",
    "\n"
   ]
  },
  {
   "cell_type": "code",
   "execution_count": 35,
   "metadata": {},
   "outputs": [
    {
     "name": "stderr",
     "output_type": "stream",
     "text": [
      "/home/arpith/anaconda3/lib/python3.6/site-packages/sklearn/ensemble/weight_boosting.py:29: DeprecationWarning: numpy.core.umath_tests is an internal NumPy module and should not be imported. It will be removed in a future NumPy release.\n",
      "  from numpy.core.umath_tests import inner1d\n",
      "/home/arpith/anaconda3/lib/python3.6/importlib/_bootstrap.py:219: RuntimeWarning: numpy.dtype size changed, may indicate binary incompatibility. Expected 96, got 88\n",
      "  return f(*args, **kwds)\n"
     ]
    }
   ],
   "source": [
    "### finding best params for RAndom forest classifier ##################\n",
    "from sklearn.ensemble import RandomForestClassifier\n",
    "from sklearn.model_selection import train_test_split\n",
    "from sklearn.model_selection import StratifiedKFold\n",
    "from sklearn import metrics\n",
    "import matplotlib.pyplot as plt\n",
    "\n",
    "x_train, x_test,y_train, y_test = train_test_split(X_train_clean, Z, test_size=0.20)  \n",
    "n_estimators = [1, 5,10,15,20]\n",
    "train_results = []\n",
    "test_results = []\n",
    "max_depths = np.linspace(1, 20, 20, endpoint=True)\n",
    "min_samples_splits = [2,3,4,5,6,7]\n",
    "min_samples_leafs = [1,2,3,4,5]\n",
    "max_features = list(range(1,x_train.shape[1]))\n",
    "\n",
    "for max_feature in max_features:\n",
    "    rf = RandomForestClassifier(n_estimators=20,max_depth=4,min_samples_leaf=1,min_samples_split=2,max_features=max_feature, n_jobs=-1,random_state=3)\n",
    "    rf.fit(x_train, y_train)\n",
    "    train_pred = rf.predict(x_train)\n",
    "    scorestr=metrics.accuracy_score(y_train, train_pred.round())\n",
    "\n",
    "    train_results.append(scorestr)\n",
    "    y_pred = rf.predict(x_test)\n",
    "    scoreste=metrics.accuracy_score(y_test, y_pred.round())\n",
    "    \n",
    "\n",
    "    test_results.append(scoreste)\n",
    "\n",
    "from matplotlib.legend_handler import HandlerLine2D\n",
    "line1, = plt.plot(max_features, train_results, 'b', label='Train AUC')\n",
    "line2, = plt.plot(max_features, test_results, 'r', label='Test AUC')\n",
    "plt.legend(handler_map={line1: HandlerLine2D(numpoints=2)})\n",
    "plt.ylabel('AUC score')\n",
    "plt.xlabel('n_estimators')\n",
    "plt.show()"
   ]
  },
  {
   "cell_type": "code",
   "execution_count": 36,
   "metadata": {},
   "outputs": [
    {
     "name": "stdout",
     "output_type": "stream",
     "text": [
      "80.0\n",
      "80.0\n",
      "70.0\n",
      "70.0\n",
      "90.0\n",
      "70.0\n",
      "80.0\n",
      "90.0\n",
      "88.88888888888889\n",
      "77.77777777777779\n",
      "79.67% (+/- 7.63%)\n"
     ]
    }
   ],
   "source": [
    "##Random forest classifier with best params using kfold ########################\n",
    "from sklearn.ensemble import RandomForestClassifier\n",
    "from sklearn.model_selection import StratifiedKFold\n",
    "from sklearn import metrics\n",
    "kfold = StratifiedKFold(n_splits=10, shuffle=True)\n",
    "cvscores = []\n",
    "yo='Accuracy'\n",
    "import numpy\n",
    "X=PCAfeatures\n",
    "# X_train_clean\n",
    "\n",
    "\n",
    "for train, test in kfold.split(X, Z):\n",
    "  \n",
    "    classifier =RandomForestClassifier(bootstrap=True, class_weight=None, criterion='gini',\n",
    "            max_depth=4, max_features=4, max_leaf_nodes=None,\n",
    "            min_impurity_decrease=0.0, min_impurity_split=None,\n",
    "            min_samples_leaf=1, min_samples_split=2,\n",
    "            min_weight_fraction_leaf=0.0, n_estimators=20, n_jobs=1,\n",
    "            oob_score=False, verbose=0, warm_start=False)\n",
    "    classifier.fit(X[train], Z[train])  \n",
    "\n",
    "    # evaluate the model\n",
    "    predtest = classifier.predict(X[test])\n",
    "    scores=metrics.accuracy_score(Z[test], predtest.round())\n",
    "    \n",
    "    print( (scores*100))\n",
    "    cvscores.append(scores * 100)\n",
    "print(\"%.2f%% (+/- %.2f%%)\" % (numpy.mean(cvscores), numpy.std(cvscores)))\n",
    "\n",
    "X=None"
   ]
  },
  {
   "cell_type": "code",
   "execution_count": 37,
   "metadata": {},
   "outputs": [],
   "source": [
    "# random forest classifier without kfold ######\n",
    "classifier=None\n",
    "classifier =RandomForestClassifier(bootstrap=True, class_weight=None, criterion='gini',\n",
    "            max_depth=4, max_features='auto', max_leaf_nodes=None,\n",
    "            min_impurity_decrease=0.0, min_impurity_split=None,\n",
    "            min_samples_leaf=1, min_samples_split=2,\n",
    "            min_weight_fraction_leaf=0.0, n_estimators=10, n_jobs=1,\n",
    "            oob_score=False, random_state=3, verbose=0, warm_start=False)\n",
    "classifier.fit(x_train, y_train)  \n",
    "\n",
    "    # evaluate the model\n",
    "predtest = classifier.predict(x_test)\n",
    "scores=metrics.accuracy_score(y_test, predtest.round())\n",
    "print(scores)"
   ]
  },
  {
   "cell_type": "code",
   "execution_count": 38,
   "metadata": {},
   "outputs": [],
   "source": []
  },
  {
   "cell_type": "code",
   "execution_count": 39,
   "metadata": {},
   "outputs": [
    {
     "name": "stdout",
     "output_type": "stream",
     "text": [
      "{'C': 10000, 'gamma': 0.0001, 'kernel': 'rbf'}\n",
      "0.9183673469387755\n"
     ]
    }
   ],
   "source": [
    "###SVM GridSearchCV##########################\n",
    "from sklearn.svm import SVC\n",
    "tuned_parameters = [{'kernel': ['rbf','linear'], 'gamma': [1e-3, 1e-4, 1e-5 , 1e-6 ,1e-7,1e-8] \n",
    "                     ,'C': [1, 5 , 10 , 100, 1000,10000,100000,1000000]}]\n",
    "# grid = GridSearchCV(knn, param_grid, cv=5, scoring='accuracy')\n",
    "\n",
    "clf = GridSearchCV(SVC(), tuned_parameters, cv=10,\n",
    "                       scoring='accuracy')\n",
    "X=PCAfeatures\n",
    "# X_train_clean\n",
    "clf.fit(X, Z)\n",
    "print(clf.best_params_)\n",
    "print(clf.best_score_)\n"
   ]
  },
  {
   "cell_type": "code",
   "execution_count": 40,
   "metadata": {},
   "outputs": [],
   "source": [
    "# SVM with grid search CV parameters############\n",
    "clf=None\n",
    "X=X_train_clean\n",
    "for train, test in kfold.split(X, Z):\n",
    "    clf = SVC(kernel='rbf',C=1000000, gamma=0.0000001)\n",
    "    clf.fit(X[train], Z[train])  \n",
    "\n",
    "    # evaluate the model\n",
    "    predtest = clf.predict(X[test])\n",
    "    scores=metrics.accuracy_score(Z[test], predtest.round())\n",
    "    \n",
    "    print( (scores*100))\n",
    "    cvscores.append(scores * 100)\n",
    "print(\"%.2f%% (+/- %.2f%%)\" % (numpy.mean(cvscores), numpy.std(cvscores)))"
   ]
  },
  {
   "cell_type": "code",
   "execution_count": 41,
   "metadata": {},
   "outputs": [],
   "source": [
    "### SVM without kfold############\n",
    "\n",
    "# clf=None\n",
    "# clf = SVC(kernel='rbf',C=1000, gamma=0.001)\n",
    "# clf.fit(x_train, y_train)  \n",
    "\n",
    "# # evaluate the model\n",
    "# predtest = clf.predict(x_test)\n",
    "# scores=metrics.accuracy_score(y_test, predtest.round())\n",
    "# print(scores)"
   ]
  },
  {
   "cell_type": "code",
   "execution_count": 44,
   "metadata": {},
   "outputs": [
    {
     "name": "stdout",
     "output_type": "stream",
     "text": [
      "1\n",
      "3848970.7011791845\n",
      "cost function 3848970.7011791845\n",
      "2\n",
      "2320129.7334161163\n",
      "cost function 2320129.7334161163\n",
      "3\n",
      "1400044.252296426\n",
      "cost function 1400044.252296426\n",
      "4\n",
      "1152542.342449516\n",
      "cost function 1152542.342449516\n",
      "5\n",
      "949650.4717197199\n",
      "cost function 949650.4717197199\n",
      "6\n",
      "811933.497835123\n",
      "cost function 811933.497835123\n",
      "7\n",
      "690362.27166746\n",
      "cost function 690362.27166746\n",
      "8\n",
      "642237.5580100624\n",
      "cost function 642237.5580100624\n",
      "9\n",
      "589862.8522852476\n",
      "cost function 589862.8522852476\n",
      "10\n",
      "558227.646722555\n",
      "cost function 558227.646722555\n"
     ]
    },
    {
     "data": {
      "image/png": "[encoded data removed]",
      "text/plain": [
       "<Figure size 432x288 with 1 Axes>"
      ]
     },
     "metadata": {},
     "output_type": "display_data"
    }
   ],
   "source": [
    "### Unsupervised kmeans to verify number of classes in data #####\n",
    "from sklearn import decomposition\n",
    "pca = decomposition.PCA(n_components=36)\n",
    "# fs=pca.fit_transform(X)\n",
    "\n",
    "from sklearn.cluster import KMeans\n",
    "import matplotlib.pyplot as plt\n",
    "kvalsci=[]\n",
    "distortionssci=[]\n",
    "kmeans_model=None\n",
    "O=prenormfeat1\n",
    "def Wk(mu, clusters):\n",
    "    K = mu[0].shape\n",
    "    return sum([np.linalg.norm(mu[i]-c)**2/(2*len(c)) \\\n",
    "               for i in range(K) for c in clusters[i]])\n",
    "\n",
    "for k in range (1, 11):\n",
    "\n",
    "    print(k)\n",
    "    kmeans_model = KMeans(n_clusters=k, tol=0.01).fit(O)\n",
    "#     print(\"cluster:\",kmeans_model.cluster_centers_)\n",
    "    interia = kmeans_model.inertia_\n",
    "   \n",
    "    print(interia)\n",
    "    \n",
    "#     x=Wk(X,kmeans_model.cluster_centers_)\n",
    "    print(\"cost function\",interia)\n",
    "#     plt.scatter(O[:,0], O[:,1], c=kmeans_model.labels_, cmap='rainbow')  \n",
    "#     plt.scatter(kmeans_model.cluster_centers_[:,0] ,kmeans_model.cluster_centers_[:,1], color='black') \n",
    "#     plt.show()\n",
    "    kvalsci.append(k)\n",
    "    distortionssci.append(interia)\n",
    "    \n",
    "\n",
    "plt.scatter(kvalsci[:], distortionssci[:], s=50, alpha=0.5)\n",
    "plt.show()\n",
    "\n"
   ]
  },
  {
   "cell_type": "code",
   "execution_count": 45,
   "metadata": {},
   "outputs": [],
   "source": [
    "####Alternate way toplot k's and score####\n",
    "\n",
    "# Nc = range(1, 10)\n",
    "\n",
    "# kmeans = [KMeans(n_clusters=i) for i in Nc]\n",
    "\n",
    "# kmeans\n",
    "\n",
    "# score = [kmeans[i].fit(KM).score(KM) for i in range(len(kmeans))]\n",
    "\n",
    "# score\n",
    "\n",
    "# plt.plot(Nc,score)\n",
    "\n",
    "# plt.xlabel('Number of Clusters')\n",
    "\n",
    "# plt.ylabel('Score')\n",
    "\n",
    "# plt.title('Elbow Curve')\n",
    "\n",
    "# plt.show()"
   ]
  },
  {
   "cell_type": "code",
   "execution_count": 46,
   "metadata": {},
   "outputs": [],
   "source": [
    "# "
   ]
  },
  {
   "cell_type": "code",
   "execution_count": 47,
   "metadata": {},
   "outputs": [],
   "source": [
    "\n"
   ]
  }
 ],
 "metadata": {
  "kernelspec": {
   "display_name": "Python 3",
   "language": "python",
   "name": "python3"
  },
  "language_info": {
   "codemirror_mode": {
    "name": "ipython",
    "version": 3
   },
   "file_extension": ".py",
   "mimetype": "text/x-python",
   "name": "python",
   "nbconvert_exporter": "python",
   "pygments_lexer": "ipython3",
   "version": "3.6.4"
  }
 },
 "nbformat": 4,
 "nbformat_minor": 2
}
